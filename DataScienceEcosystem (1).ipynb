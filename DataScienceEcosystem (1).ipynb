{
 "cells": [
  {
   "cell_type": "markdown",
   "id": "cddf6e16-0608-485b-955a-0b10a46f9095",
   "metadata": {},
   "source": [
    "# Data Science Tools and Ecosystem"
   ]
  },
  {
   "cell_type": "markdown",
   "id": "293e0f62-4670-4a23-8b36-f7cdcea66fb9",
   "metadata": {},
   "source": [
    "### In this notebook, Data Science Tools and Ecosystem are summarized"
   ]
  },
  {
   "cell_type": "markdown",
   "id": "0320e8e0-123f-414b-a66f-4a5a39e3ff44",
   "metadata": {},
   "source": [
    "#### Some of the popular languages that Data Scientists use are:\n",
    "- python\n",
    "- R\n",
    "- SQL"
   ]
  },
  {
   "cell_type": "markdown",
   "id": "f74ac92b-d5bd-4e13-af16-4cbe2167a29a",
   "metadata": {},
   "source": [
    "#### Some of the commonly used libraries used by data scientists include:\n",
    "- numpy\n",
    "- pandas\n",
    "- matplotlib"
   ]
  },
  {
   "cell_type": "markdown",
   "id": "df7bb1b1-0eaa-4d2e-a9ff-abf30e311dbd",
   "metadata": {},
   "source": [
    "| Data Science Tools | \n",
    "| -------------| \n",
    "| Jupyter Notebooks/Lab | \n",
    "| RStudio |\n",
    "| VSCode |"
   ]
  },
  {
   "cell_type": "markdown",
   "id": "74916416-6178-4dc7-83a6-308350b44b7c",
   "metadata": {},
   "source": [
    "### Below are a few examples of evaluating arithmetic expressions in Python"
   ]
  },
  {
   "cell_type": "code",
   "execution_count": 7,
   "id": "f63372e1-12e4-4f63-9730-0cf170e9dd7c",
   "metadata": {},
   "outputs": [
    {
     "data": {
      "text/plain": [
       "12"
      ]
     },
     "execution_count": 7,
     "metadata": {},
     "output_type": "execute_result"
    }
   ],
   "source": [
    "3*4"
   ]
  },
  {
   "cell_type": "code",
   "execution_count": 8,
   "id": "1b8396f7-7a27-462f-a7ab-5488955cf5c6",
   "metadata": {},
   "outputs": [
    {
     "data": {
      "text/plain": [
       "7"
      ]
     },
     "execution_count": 8,
     "metadata": {},
     "output_type": "execute_result"
    }
   ],
   "source": [
    "5+2"
   ]
  },
  {
   "cell_type": "code",
   "execution_count": 5,
   "id": "4b4595d5-231b-437f-b713-0d530539ebdb",
   "metadata": {},
   "outputs": [
    {
     "data": {
      "text/plain": [
       "17"
      ]
     },
     "execution_count": 5,
     "metadata": {},
     "output_type": "execute_result"
    }
   ],
   "source": [
    "(3*4)+5 \n",
    "#simple arithmetic expression to multiply then add integers"
   ]
  },
  {
   "cell_type": "markdown",
   "id": "51d0b554-4608-4c29-8226-85a69c27a0e9",
   "metadata": {},
   "source": [
    "**Objectives:**\n",
    "- list popular languages for data science\n",
    "- create a table of commonly used libraries\n",
    "- create simple arthmetic expressions in the notebook"
   ]
  },
  {
   "cell_type": "markdown",
   "id": "b36577f3-322e-4643-a85f-14d289bc2a3c",
   "metadata": {},
   "source": [
    "## Author\n",
    "Summer Kelly"
   ]
  },
  {
   "cell_type": "code",
   "execution_count": null,
   "id": "5ef03a66-7eef-4c45-9456-be5e190504f1",
   "metadata": {},
   "outputs": [],
   "source": []
  }
 ],
 "metadata": {
  "kernelspec": {
   "display_name": "Python 3 (ipykernel)",
   "language": "python",
   "name": "python3"
  },
  "language_info": {
   "codemirror_mode": {
    "name": "ipython",
    "version": 3
   },
   "file_extension": ".py",
   "mimetype": "text/x-python",
   "name": "python",
   "nbconvert_exporter": "python",
   "pygments_lexer": "ipython3",
   "version": "3.12.8"
  }
 },
 "nbformat": 4,
 "nbformat_minor": 5
}
